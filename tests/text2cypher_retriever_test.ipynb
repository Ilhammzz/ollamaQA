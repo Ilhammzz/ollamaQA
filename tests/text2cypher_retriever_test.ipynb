{
 "cells": [
  {
   "cell_type": "code",
   "execution_count": null,
   "id": "664b752a",
   "metadata": {},
   "outputs": [
    {
     "data": {
      "text/plain": [
       "True"
      ]
     },
     "execution_count": 1,
     "metadata": {},
     "output_type": "execute_result"
    }
   ],
   "source": [
    "import os\n",
    "import sys\n",
    "import time\n",
    "from ast import literal_eval\n",
    "from typing import Any, Dict, List, Union\n",
    "\n",
    "\n",
    "sys.path.append(os.path.join(os.getcwd(), \"..\"))\n",
    "\n",
    "\n",
    "import pandas as pd\n",
    "from pprint import pprint\n",
    "from dotenv import load_dotenv\n",
    "from langchain_neo4j import Neo4jGraph\n",
    "from langchain_ollama import ChatOllama\n",
    "from langchain_anthropic import ChatAnthropic\n",
    "from langchain_huggingface import HuggingFaceEmbeddings\n",
    "from ragas.dataset_schema import EvaluationDataset, EvaluationResult\n",
    "from src.grag import run_text2cypher_workflow, evaluate_retriever\n",
    "\n",
    "\n",
    "load_dotenv()"
   ]
  },
  {
   "cell_type": "markdown",
   "id": "249845be",
   "metadata": {},
   "source": [
    "# **Preparation**"
   ]
  },
  {
   "cell_type": "code",
   "execution_count": 2,
   "id": "58795d0d",
   "metadata": {},
   "outputs": [],
   "source": [
    "DATABASE_NAME = \"db-large\"\n",
    "\n",
    "URI = os.environ[\"NEO4J_HOST\"]\n",
    "USERNAME = os.environ[\"NEO4J_USERNAME\"]\n",
    "PASSWORD = os.environ[\"NEO4J_PASSWORD\"]\n",
    "\n",
    "neo4j_graph = Neo4jGraph(\n",
    "    url=URI,\n",
    "    username=USERNAME,\n",
    "    password=PASSWORD,\n",
    "    database=DATABASE_NAME,\n",
    "    enhanced_schema=True\n",
    ")"
   ]
  },
  {
   "cell_type": "code",
   "execution_count": null,
   "id": "1afb47ed",
   "metadata": {},
   "outputs": [
    {
     "name": "stdout",
     "output_type": "stream",
     "text": [
      "Jumlah soal: 100\n"
     ]
    }
   ],
   "source": [
    "OUTPUT_PATH = os.path.join(\"results\", \"text2cypher_retriever\")\n",
    "DATASET_PATH = os.path.join(\"data\", \"Dataset Testing.xlsx\")\n",
    "\n",
    "os.makedirs(OUTPUT_PATH, exist_ok=True)\n",
    "\n",
    "df = pd.read_excel(DATASET_PATH)\n",
    "dataset = []\n",
    "\n",
    "for idx, row in df.iterrows():\n",
    "    if row[\"is_valid\"]:\n",
    "        dataset.append(\n",
    "            {\n",
    "                \"user_input\": str(row[\"user_input\"]),\n",
    "                \"reference\": str(row[\"reference\"]),\n",
    "                \"reference_contexts\": literal_eval(row[\"reference_contexts_1\"]),\n",
    "                # \"reference_contexts\": literal_eval(row[\"reference_contexts_2\"]),\n",
    "            }\n",
    "        )\n",
    "\n",
    "evaluation_dataset = EvaluationDataset.from_list(dataset)\n",
    "\n",
    "print(f\"Jumlah soal: {len(evaluation_dataset)}\")"
   ]
  },
  {
   "cell_type": "markdown",
   "id": "8f40f0bb",
   "metadata": {},
   "source": [
    "# **Evaluation**"
   ]
  },
  {
   "cell_type": "code",
   "execution_count": null,
   "id": "a7ce3da8",
   "metadata": {},
   "outputs": [],
   "source": [
    "def print_result_summary(result: Dict[str, Any]) -> None:\n",
    "    for key, value in result.items():\n",
    "        if key != \"cypher_result\":\n",
    "            print(f\"{key}: {value}\")\n",
    "\n",
    "\n",
    "def save_experiment_dataset_or_result(\n",
    "    dataset: Union[EvaluationDataset, EvaluationResult],\n",
    "    generated_cypher_results: List[str],\n",
    "    experiment_name: str\n",
    ") -> None:\n",
    "    df = dataset.to_pandas()\n",
    "    df[\"cypher_result\"] = generated_cypher_results\n",
    "    df.to_json(\n",
    "        os.path.join(OUTPUT_PATH, f\"{experiment_name}.json\"),\n",
    "        orient=\"records\",\n",
    "    )\n",
    "\n",
    "\n",
    "def run_test_case(test_case: Dict[str, Any]) -> Dict[str, Any]:\n",
    "    if test_case[\"embedding_model\"]:\n",
    "        prompt_type = \"few-shot\"\n",
    "    else:\n",
    "        prompt_type = \"zero-shot\"\n",
    "\n",
    "    experiment_name = f\"{test_case[\"llm_model_name\"]}_{prompt_type}\"\n",
    "\n",
    "    text2cypher_workflow_result = run_text2cypher_workflow(\n",
    "        evaluation_dataset,\n",
    "        experiment_name,\n",
    "        neo4j_graph=neo4j_graph,\n",
    "        cypher_llm=test_case[\"llm_model\"],\n",
    "        embedder_model=test_case[\"embedding_model\"],\n",
    "        verbose=True,\n",
    "    )\n",
    "\n",
    "    evaluation_dataset_completed, generated_cypher_results = (\n",
    "        text2cypher_workflow_result\n",
    "    )\n",
    "\n",
    "    # Checkpoint 1\n",
    "    save_experiment_dataset_or_result(\n",
    "        evaluation_dataset_completed,\n",
    "        generated_cypher_results,\n",
    "        experiment_name=experiment_name\n",
    "    )\n",
    "\n",
    "    evaluation_result = evaluate_retriever(\n",
    "        evaluation_dataset_completed,\n",
    "        experiment_name=experiment_name,\n",
    "    )\n",
    "\n",
    "    # Checkpoint 2\n",
    "    save_experiment_dataset_or_result(\n",
    "        evaluation_result,\n",
    "        generated_cypher_results,\n",
    "        experiment_name=experiment_name\n",
    "    )\n",
    "\n",
    "    return {\n",
    "        \"experiment_name\": experiment_name,\n",
    "        \"args\": {\"llm\": test_case[\"llm_model_name\"], \"prompt_type\": prompt_type},\n",
    "        \"evaluation_result\": evaluation_result,\n",
    "        \"cypher_result\": generated_cypher_results,\n",
    "    }"
   ]
  },
  {
   "cell_type": "code",
   "execution_count": null,
   "id": "ef62598c",
   "metadata": {},
   "outputs": [],
   "source": [
    "EMBEDDING_MODEL_NAME = \"intfloat/multilingual-e5-large\"\n",
    "embedding_model = HuggingFaceEmbeddings(model_name=EMBEDDING_MODEL_NAME)\n",
    "\n",
    "CLAUDE_LLM_MODEL_NAME = \"claude-3-5-haiku-20241022\"\n",
    "claude_llm = ChatAnthropic(\n",
    "    model_name=CLAUDE_LLM_MODEL_NAME,\n",
    "    max_tokens_to_sample=4096,\n",
    "    temperature=0.0,\n",
    "    timeout=None,\n",
    "    api_key=os.environ[\"ANTHROPIC_API_KEY\"],\n",
    ")\n",
    "\n",
    "LLAMA_LLM_MODEL_NAME = \"llama3.1:8b-instruct-q4_K_M\"\n",
    "llama_llm = ChatOllama(\n",
    "    model=LLAMA_LLM_MODEL_NAME,\n",
    "    num_ctx=32768,\n",
    "    num_predict=4096,\n",
    "    temperature=0.0,\n",
    ")"
   ]
  },
  {
   "cell_type": "code",
   "execution_count": null,
   "id": "60c00d5b",
   "metadata": {},
   "outputs": [],
   "source": [
    "test_cases = [\n",
    "    {\n",
    "        # Zero-shot\n",
    "        \"llm_model_name\": CLAUDE_LLM_MODEL_NAME,\n",
    "        \"llm_model\": claude_llm,\n",
    "        \"embedding_model\": None\n",
    "    },\n",
    "    {\n",
    "        # Few-shot\n",
    "        \"llm_model_name\": CLAUDE_LLM_MODEL_NAME,\n",
    "        \"llm_model\": claude_llm,\n",
    "        \"embedding_model\": embedding_model\n",
    "    },\n",
    "    {\n",
    "        # Zero-shot\n",
    "        \"llm_model_name\": LLAMA_LLM_MODEL_NAME,\n",
    "        \"llm_model\": llama_llm,\n",
    "        \"embedding_model\": None\n",
    "    },\n",
    "    {\n",
    "        # Few-shot\n",
    "        \"llm_model_name\": LLAMA_LLM_MODEL_NAME,\n",
    "        \"llm_model\": llama_llm,\n",
    "        \"embedding_model\": embedding_model\n",
    "    },\n",
    "]\n",
    "\n"
   ]
  },
  {
   "cell_type": "markdown",
   "id": "fd91b278",
   "metadata": {},
   "source": [
    "## **Test Case 1**\n",
    "\n",
    "- Claude\n",
    "- Zero-Shot"
   ]
  },
  {
   "cell_type": "code",
   "execution_count": null,
   "id": "155b4406",
   "metadata": {},
   "outputs": [],
   "source": [
    "test_result_1 = run_test_case(test_cases[0])\n",
    "\n",
    "print_result_summary(test_result_1)"
   ]
  },
  {
   "cell_type": "markdown",
   "id": "2518c73b",
   "metadata": {},
   "source": [
    "## **Test Case 2**\n",
    "\n",
    "- Claude\n",
    "- Few-Shot"
   ]
  },
  {
   "cell_type": "code",
   "execution_count": null,
   "id": "0d160641",
   "metadata": {},
   "outputs": [],
   "source": [
    "test_result_2 = run_test_case(test_cases[1])\n",
    "\n",
    "print_result_summary(test_result_2)"
   ]
  },
  {
   "cell_type": "markdown",
   "id": "d02d46f2",
   "metadata": {},
   "source": [
    "## **Test Case 3**\n",
    "\n",
    "- Llama\n",
    "- Zero-Shot"
   ]
  },
  {
   "cell_type": "code",
   "execution_count": null,
   "id": "2c3606d4",
   "metadata": {},
   "outputs": [],
   "source": [
    "test_result_3 = run_test_case(test_cases[2])\n",
    "\n",
    "print_result_summary(test_result_3)"
   ]
  },
  {
   "cell_type": "markdown",
   "id": "917df5fc",
   "metadata": {},
   "source": [
    "## **Test Case 4**\n",
    "\n",
    "- Llama\n",
    "- Few-Shot"
   ]
  },
  {
   "cell_type": "code",
   "execution_count": null,
   "id": "fcc4eabe",
   "metadata": {},
   "outputs": [],
   "source": [
    "test_result_4 = run_test_case(test_cases[3])\n",
    "\n",
    "print_result_summary(test_result_4)"
   ]
  }
 ],
 "metadata": {
  "kernelspec": {
   "display_name": ".venv",
   "language": "python",
   "name": "python3"
  },
  "language_info": {
   "codemirror_mode": {
    "name": "ipython",
    "version": 3
   },
   "file_extension": ".py",
   "mimetype": "text/x-python",
   "name": "python",
   "nbconvert_exporter": "python",
   "pygments_lexer": "ipython3",
   "version": "3.11.9"
  }
 },
 "nbformat": 4,
 "nbformat_minor": 5
}
