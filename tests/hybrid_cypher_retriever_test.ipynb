{
 "cells": [
  {
   "cell_type": "code",
   "execution_count": null,
   "id": "6a9cfc3f",
   "metadata": {},
   "outputs": [
    {
     "data": {
      "text/plain": [
       "True"
      ]
     },
     "execution_count": 1,
     "metadata": {},
     "output_type": "execute_result"
    }
   ],
   "source": [
    "import os\n",
    "import sys\n",
    "import time\n",
    "from ast import literal_eval\n",
    "from typing import Any, Dict, List, Union\n",
    "\n",
    "\n",
    "sys.path.append(os.path.join(os.getcwd(), \"..\"))\n",
    "\n",
    "\n",
    "import pandas as pd\n",
    "from pprint import pprint\n",
    "from dotenv import load_dotenv\n",
    "from langchain_core.embeddings import Embeddings\n",
    "from langchain_neo4j import Neo4jGraph\n",
    "from langchain_huggingface import HuggingFaceEmbeddings\n",
    "from ragas.dataset_schema import EvaluationDataset, EvaluationResult\n",
    "from src.grag import run_hybrid_cypher_workflow, evaluate_retriever\n",
    "\n",
    "\n",
    "load_dotenv()"
   ]
  },
  {
   "cell_type": "markdown",
   "id": "249845be",
   "metadata": {},
   "source": [
    "# **Preparation**"
   ]
  },
  {
   "cell_type": "code",
   "execution_count": null,
   "id": "92412944",
   "metadata": {},
   "outputs": [
    {
     "name": "stdout",
     "output_type": "stream",
     "text": [
      "100\n"
     ]
    }
   ],
   "source": [
    "OUTPUT_PATH = os.path.join(\"results\", \"hybrid_cypher_retriever\")\n",
    "DATASET_PATH = os.path.join(\"data\", \"Dataset Testing.xlsx\")\n",
    "\n",
    "os.makedirs(OUTPUT_PATH, exist_ok=True)\n",
    "\n",
    "df: pd.DataFrame = pd.read_excel(DATASET_PATH)\n",
    "dataset: List[Dict[str, Any]] = []\n",
    "\n",
    "for idx, row in df.iterrows():\n",
    "    if row[\"is_valid\"]:\n",
    "        dataset.append(\n",
    "            {\n",
    "                \"user_input\": str(row[\"user_input\"]),\n",
    "                \"reference\": str(row[\"reference\"]),\n",
    "                \"reference_contexts\": literal_eval(row[\"reference_contexts_1\"])\n",
    "            }\n",
    "        )\n",
    "\n",
    "evaluation_dataset = EvaluationDataset.from_list(dataset)\n",
    "\n",
    "print(len(evaluation_dataset))"
   ]
  },
  {
   "cell_type": "markdown",
   "id": "8f40f0bb",
   "metadata": {},
   "source": [
    "# **Evaluation**"
   ]
  },
  {
   "cell_type": "code",
   "execution_count": null,
   "id": "b519ad2d",
   "metadata": {},
   "outputs": [],
   "source": [
    "def save_experiment_result(\n",
    "    evaluation_result: EvaluationResult,\n",
    "    experiment_name: str\n",
    ") -> None:\n",
    "    evaluation_result.to_pandas().to_json(\n",
    "        os.path.join(OUTPUT_PATH, f\"{experiment_name}.json\"),\n",
    "        orient=\"records\",\n",
    "    )\n",
    "\n",
    "\n",
    "def run_test_case(\n",
    "    neo4j_graph_name: str,\n",
    "    neo4j_graph: Neo4jGraph,\n",
    "    embedding_model_name: str,\n",
    "    embedding_model: Embeddings,\n",
    "    neo4j_graph_config: Dict[str, str],\n",
    ") -> List[Dict[str, Any]]:\n",
    "\n",
    "    test_result = []\n",
    "\n",
    "    for k in range(1, 16):\n",
    "        experiment_name = f\"{neo4j_graph_name}_{embedding_model_name}_init-{k}\".replace(\n",
    "            \"/\", \"-\"\n",
    "        )\n",
    "\n",
    "        hybrid_cypher_workflow_result = run_hybrid_cypher_workflow(\n",
    "            evaluation_dataset,\n",
    "            experiment_name,\n",
    "            embedder_model=embedding_model,\n",
    "            neo4j_graph=neo4j_graph,\n",
    "            neo4j_config=neo4j_graph_config,\n",
    "            top_k_initial_article=k,\n",
    "        )\n",
    "\n",
    "        evaluation_dataset_hybrid_cypher, _ = hybrid_cypher_workflow_result\n",
    "\n",
    "        evaluation_result = evaluate_retriever(\n",
    "            evaluation_dataset_hybrid_cypher,\n",
    "            experiment_name=experiment_name,\n",
    "        )\n",
    "\n",
    "        # Checkpoint\n",
    "        save_experiment_result(evaluation_result, experiment_name=experiment_name)\n",
    "\n",
    "        test_result.append(\n",
    "            {\n",
    "                \"experiment_name\": experiment_name,\n",
    "                \"args\": {\n",
    "                    \"database\": neo4j_graph_name,\n",
    "                    \"embedding_model\": embedding_model_name,\n",
    "                    \"k\": k,\n",
    "                },\n",
    "                \"evaluation_result\": evaluation_result,\n",
    "            }\n",
    "        )\n",
    "\n",
    "    return test_result"
   ]
  },
  {
   "cell_type": "code",
   "execution_count": 4,
   "id": "6554ceaf",
   "metadata": {},
   "outputs": [],
   "source": [
    "URI = os.environ[\"NEO4J_HOST\"]\n",
    "USERNAME = os.environ[\"NEO4J_USERNAME\"]\n",
    "PASSWORD = os.environ[\"NEO4J_PASSWORD\"]\n",
    "\n",
    "neo4j_config = {\n",
    "    \"DATABASE_NAME\": None,\n",
    "    \"ARTICLE_VECTOR_INDEX_NAME\": \"effective_vector_index\",\n",
    "    \"ARTICLE_FULLTEXT_INDEX_NAME\": \"effective_fulltext_index\",\n",
    "    \"DEFINITION_VECTOR_INDEX_NAME\": \"definition_vector_index\",\n",
    "    \"DEFINITION_FULLTEXT_INDEX_NAME\": \"definition_fulltext_index\",\n",
    "}"
   ]
  },
  {
   "cell_type": "markdown",
   "id": "fd91b278",
   "metadata": {},
   "source": [
    "## **Test Case 1**\n",
    "\n",
    "- db-small\n",
    "- all-MiniLM-L6-v2"
   ]
  },
  {
   "cell_type": "code",
   "execution_count": 5,
   "id": "afdc35cc",
   "metadata": {},
   "outputs": [],
   "source": [
    "DATABASE_NAME = \"db-small\"\n",
    "EMBEDDING_MODEL_NAME = \"all-MiniLM-L6-v2\"\n",
    "\n",
    "neo4j_config[\"DATABASE_NAME\"] = DATABASE_NAME\n",
    "\n",
    "neo4j_graph = Neo4jGraph(\n",
    "    url=URI,\n",
    "    username=USERNAME,\n",
    "    password=PASSWORD,\n",
    "    database=DATABASE_NAME,\n",
    "    enhanced_schema=True\n",
    ")\n",
    "\n",
    "embedding_model = HuggingFaceEmbeddings(model_name=EMBEDDING_MODEL_NAME)"
   ]
  },
  {
   "cell_type": "code",
   "execution_count": 6,
   "id": "5938e315",
   "metadata": {},
   "outputs": [
    {
     "name": "stderr",
     "output_type": "stream",
     "text": [
      "Running hybrid_cypher_retriever: `db-small_all-MiniLM-L6-v2_init-1`: 100%|██████████| 100/100 [00:08<00:00, 11.65it/s]\n"
     ]
    },
    {
     "data": {
      "application/vnd.jupyter.widget-view+json": {
       "model_id": "fb0767c9c55342348f62c9aa87ee6fe7",
       "version_major": 2,
       "version_minor": 0
      },
      "text/plain": [
       "Evaluating:   0%|          | 0/200 [00:00<?, ?it/s]"
      ]
     },
     "metadata": {},
     "output_type": "display_data"
    },
    {
     "name": "stderr",
     "output_type": "stream",
     "text": [
      "Running hybrid_cypher_retriever: `db-small_all-MiniLM-L6-v2_init-2`: 100%|██████████| 100/100 [00:07<00:00, 13.51it/s]\n"
     ]
    },
    {
     "data": {
      "application/vnd.jupyter.widget-view+json": {
       "model_id": "1c089eecd3ad4b65b88d2ecd79aebe94",
       "version_major": 2,
       "version_minor": 0
      },
      "text/plain": [
       "Evaluating:   0%|          | 0/200 [00:00<?, ?it/s]"
      ]
     },
     "metadata": {},
     "output_type": "display_data"
    },
    {
     "name": "stderr",
     "output_type": "stream",
     "text": [
      "Running hybrid_cypher_retriever: `db-small_all-MiniLM-L6-v2_init-3`: 100%|██████████| 100/100 [00:07<00:00, 14.14it/s]\n"
     ]
    },
    {
     "data": {
      "application/vnd.jupyter.widget-view+json": {
       "model_id": "322246c5dd77480cb429841e2ae8dff7",
       "version_major": 2,
       "version_minor": 0
      },
      "text/plain": [
       "Evaluating:   0%|          | 0/200 [00:00<?, ?it/s]"
      ]
     },
     "metadata": {},
     "output_type": "display_data"
    },
    {
     "name": "stderr",
     "output_type": "stream",
     "text": [
      "Running hybrid_cypher_retriever: `db-small_all-MiniLM-L6-v2_init-4`: 100%|██████████| 100/100 [00:07<00:00, 13.62it/s]\n"
     ]
    },
    {
     "data": {
      "application/vnd.jupyter.widget-view+json": {
       "model_id": "18864c1876b04af6badf7ae74fd1afb6",
       "version_major": 2,
       "version_minor": 0
      },
      "text/plain": [
       "Evaluating:   0%|          | 0/200 [00:00<?, ?it/s]"
      ]
     },
     "metadata": {},
     "output_type": "display_data"
    },
    {
     "name": "stderr",
     "output_type": "stream",
     "text": [
      "Running hybrid_cypher_retriever: `db-small_all-MiniLM-L6-v2_init-5`: 100%|██████████| 100/100 [00:07<00:00, 14.11it/s]\n"
     ]
    },
    {
     "data": {
      "application/vnd.jupyter.widget-view+json": {
       "model_id": "dbadbe224fb244c9a9247b8b8ec0d9e8",
       "version_major": 2,
       "version_minor": 0
      },
      "text/plain": [
       "Evaluating:   0%|          | 0/200 [00:00<?, ?it/s]"
      ]
     },
     "metadata": {},
     "output_type": "display_data"
    },
    {
     "name": "stderr",
     "output_type": "stream",
     "text": [
      "Running hybrid_cypher_retriever: `db-small_all-MiniLM-L6-v2_init-6`: 100%|██████████| 100/100 [00:07<00:00, 14.13it/s]\n"
     ]
    },
    {
     "data": {
      "application/vnd.jupyter.widget-view+json": {
       "model_id": "7f25d8590035431a8e81b7d0344313c0",
       "version_major": 2,
       "version_minor": 0
      },
      "text/plain": [
       "Evaluating:   0%|          | 0/200 [00:00<?, ?it/s]"
      ]
     },
     "metadata": {},
     "output_type": "display_data"
    },
    {
     "name": "stderr",
     "output_type": "stream",
     "text": [
      "Running hybrid_cypher_retriever: `db-small_all-MiniLM-L6-v2_init-7`: 100%|██████████| 100/100 [00:07<00:00, 14.07it/s]\n"
     ]
    },
    {
     "data": {
      "application/vnd.jupyter.widget-view+json": {
       "model_id": "e6cfd045b05d4654b1c19f924b0f1341",
       "version_major": 2,
       "version_minor": 0
      },
      "text/plain": [
       "Evaluating:   0%|          | 0/200 [00:00<?, ?it/s]"
      ]
     },
     "metadata": {},
     "output_type": "display_data"
    },
    {
     "name": "stderr",
     "output_type": "stream",
     "text": [
      "Running hybrid_cypher_retriever: `db-small_all-MiniLM-L6-v2_init-8`: 100%|██████████| 100/100 [00:07<00:00, 13.70it/s]\n"
     ]
    },
    {
     "data": {
      "application/vnd.jupyter.widget-view+json": {
       "model_id": "dc2aa8ec564340d29782938936147118",
       "version_major": 2,
       "version_minor": 0
      },
      "text/plain": [
       "Evaluating:   0%|          | 0/200 [00:00<?, ?it/s]"
      ]
     },
     "metadata": {},
     "output_type": "display_data"
    },
    {
     "name": "stderr",
     "output_type": "stream",
     "text": [
      "Running hybrid_cypher_retriever: `db-small_all-MiniLM-L6-v2_init-9`: 100%|██████████| 100/100 [00:07<00:00, 13.62it/s]\n"
     ]
    },
    {
     "data": {
      "application/vnd.jupyter.widget-view+json": {
       "model_id": "10648eee758a40018a0cb42e79ce2cbd",
       "version_major": 2,
       "version_minor": 0
      },
      "text/plain": [
       "Evaluating:   0%|          | 0/200 [00:00<?, ?it/s]"
      ]
     },
     "metadata": {},
     "output_type": "display_data"
    },
    {
     "name": "stderr",
     "output_type": "stream",
     "text": [
      "Running hybrid_cypher_retriever: `db-small_all-MiniLM-L6-v2_init-10`: 100%|██████████| 100/100 [00:07<00:00, 13.47it/s]\n"
     ]
    },
    {
     "data": {
      "application/vnd.jupyter.widget-view+json": {
       "model_id": "6ccc15fbb2ed42aa970472f3345e21bb",
       "version_major": 2,
       "version_minor": 0
      },
      "text/plain": [
       "Evaluating:   0%|          | 0/200 [00:00<?, ?it/s]"
      ]
     },
     "metadata": {},
     "output_type": "display_data"
    },
    {
     "name": "stderr",
     "output_type": "stream",
     "text": [
      "Running hybrid_cypher_retriever: `db-small_all-MiniLM-L6-v2_init-11`: 100%|██████████| 100/100 [00:07<00:00, 14.18it/s]\n"
     ]
    },
    {
     "data": {
      "application/vnd.jupyter.widget-view+json": {
       "model_id": "3ae75597338a440498a75e399c1664ca",
       "version_major": 2,
       "version_minor": 0
      },
      "text/plain": [
       "Evaluating:   0%|          | 0/200 [00:00<?, ?it/s]"
      ]
     },
     "metadata": {},
     "output_type": "display_data"
    },
    {
     "name": "stderr",
     "output_type": "stream",
     "text": [
      "Running hybrid_cypher_retriever: `db-small_all-MiniLM-L6-v2_init-12`: 100%|██████████| 100/100 [00:07<00:00, 14.18it/s]\n"
     ]
    },
    {
     "data": {
      "application/vnd.jupyter.widget-view+json": {
       "model_id": "f79d64c21b89427a981e523e29cdf5aa",
       "version_major": 2,
       "version_minor": 0
      },
      "text/plain": [
       "Evaluating:   0%|          | 0/200 [00:00<?, ?it/s]"
      ]
     },
     "metadata": {},
     "output_type": "display_data"
    },
    {
     "name": "stderr",
     "output_type": "stream",
     "text": [
      "Running hybrid_cypher_retriever: `db-small_all-MiniLM-L6-v2_init-13`: 100%|██████████| 100/100 [00:07<00:00, 13.25it/s]\n"
     ]
    },
    {
     "data": {
      "application/vnd.jupyter.widget-view+json": {
       "model_id": "c0ccb7cae8d24ca18a02c59d3d5e6287",
       "version_major": 2,
       "version_minor": 0
      },
      "text/plain": [
       "Evaluating:   0%|          | 0/200 [00:00<?, ?it/s]"
      ]
     },
     "metadata": {},
     "output_type": "display_data"
    },
    {
     "name": "stderr",
     "output_type": "stream",
     "text": [
      "Running hybrid_cypher_retriever: `db-small_all-MiniLM-L6-v2_init-14`: 100%|██████████| 100/100 [00:07<00:00, 12.80it/s]\n"
     ]
    },
    {
     "data": {
      "application/vnd.jupyter.widget-view+json": {
       "model_id": "bad7ecc673b345b7bc021d03f06a7820",
       "version_major": 2,
       "version_minor": 0
      },
      "text/plain": [
       "Evaluating:   0%|          | 0/200 [00:00<?, ?it/s]"
      ]
     },
     "metadata": {},
     "output_type": "display_data"
    },
    {
     "name": "stderr",
     "output_type": "stream",
     "text": [
      "Running hybrid_cypher_retriever: `db-small_all-MiniLM-L6-v2_init-15`: 100%|██████████| 100/100 [00:07<00:00, 12.77it/s]\n"
     ]
    },
    {
     "data": {
      "application/vnd.jupyter.widget-view+json": {
       "model_id": "2c4f4c06def04faebad8f592374cbd46",
       "version_major": 2,
       "version_minor": 0
      },
      "text/plain": [
       "Evaluating:   0%|          | 0/200 [00:00<?, ?it/s]"
      ]
     },
     "metadata": {},
     "output_type": "display_data"
    }
   ],
   "source": [
    "test_result_1 = run_test_case(\n",
    "    DATABASE_NAME,\n",
    "    neo4j_graph,\n",
    "    EMBEDDING_MODEL_NAME,\n",
    "    embedding_model,\n",
    "    neo4j_graph_config=neo4j_config\n",
    ")"
   ]
  },
  {
   "cell_type": "code",
   "execution_count": 7,
   "id": "942b40ee",
   "metadata": {},
   "outputs": [
    {
     "name": "stdout",
     "output_type": "stream",
     "text": [
      "[{'args': {'database': 'db-small',\n",
      "           'embedding_model': 'all-MiniLM-L6-v2',\n",
      "           'k': 1},\n",
      "  'evaluation_result': {'precision': 0.0353, 'recall': 0.0775},\n",
      "  'experiment_name': 'db-small_all-MiniLM-L6-v2_init-1'},\n",
      " {'args': {'database': 'db-small',\n",
      "           'embedding_model': 'all-MiniLM-L6-v2',\n",
      "           'k': 2},\n",
      "  'evaluation_result': {'precision': 0.0759, 'recall': 0.2459},\n",
      "  'experiment_name': 'db-small_all-MiniLM-L6-v2_init-2'},\n",
      " {'args': {'database': 'db-small',\n",
      "           'embedding_model': 'all-MiniLM-L6-v2',\n",
      "           'k': 3},\n",
      "  'evaluation_result': {'precision': 0.0717, 'recall': 0.2847},\n",
      "  'experiment_name': 'db-small_all-MiniLM-L6-v2_init-3'},\n",
      " {'args': {'database': 'db-small',\n",
      "           'embedding_model': 'all-MiniLM-L6-v2',\n",
      "           'k': 4},\n",
      "  'evaluation_result': {'precision': 0.0626, 'recall': 0.3073},\n",
      "  'experiment_name': 'db-small_all-MiniLM-L6-v2_init-4'},\n",
      " {'args': {'database': 'db-small',\n",
      "           'embedding_model': 'all-MiniLM-L6-v2',\n",
      "           'k': 5},\n",
      "  'evaluation_result': {'precision': 0.0564, 'recall': 0.3123},\n",
      "  'experiment_name': 'db-small_all-MiniLM-L6-v2_init-5'},\n",
      " {'args': {'database': 'db-small',\n",
      "           'embedding_model': 'all-MiniLM-L6-v2',\n",
      "           'k': 6},\n",
      "  'evaluation_result': {'precision': 0.0521, 'recall': 0.3207},\n",
      "  'experiment_name': 'db-small_all-MiniLM-L6-v2_init-6'},\n",
      " {'args': {'database': 'db-small',\n",
      "           'embedding_model': 'all-MiniLM-L6-v2',\n",
      "           'k': 7},\n",
      "  'evaluation_result': {'precision': 0.0469, 'recall': 0.3219},\n",
      "  'experiment_name': 'db-small_all-MiniLM-L6-v2_init-7'},\n",
      " {'args': {'database': 'db-small',\n",
      "           'embedding_model': 'all-MiniLM-L6-v2',\n",
      "           'k': 8},\n",
      "  'evaluation_result': {'precision': 0.0447, 'recall': 0.3257},\n",
      "  'experiment_name': 'db-small_all-MiniLM-L6-v2_init-8'},\n",
      " {'args': {'database': 'db-small',\n",
      "           'embedding_model': 'all-MiniLM-L6-v2',\n",
      "           'k': 9},\n",
      "  'evaluation_result': {'precision': 0.0405, 'recall': 0.3307},\n",
      "  'experiment_name': 'db-small_all-MiniLM-L6-v2_init-9'},\n",
      " {'args': {'database': 'db-small',\n",
      "           'embedding_model': 'all-MiniLM-L6-v2',\n",
      "           'k': 10},\n",
      "  'evaluation_result': {'precision': 0.0378, 'recall': 0.3357},\n",
      "  'experiment_name': 'db-small_all-MiniLM-L6-v2_init-10'},\n",
      " {'args': {'database': 'db-small',\n",
      "           'embedding_model': 'all-MiniLM-L6-v2',\n",
      "           'k': 11},\n",
      "  'evaluation_result': {'precision': 0.0347, 'recall': 0.3357},\n",
      "  'experiment_name': 'db-small_all-MiniLM-L6-v2_init-11'},\n",
      " {'args': {'database': 'db-small',\n",
      "           'embedding_model': 'all-MiniLM-L6-v2',\n",
      "           'k': 12},\n",
      "  'evaluation_result': {'precision': 0.0337, 'recall': 0.3507},\n",
      "  'experiment_name': 'db-small_all-MiniLM-L6-v2_init-12'},\n",
      " {'args': {'database': 'db-small',\n",
      "           'embedding_model': 'all-MiniLM-L6-v2',\n",
      "           'k': 13},\n",
      "  'evaluation_result': {'precision': 0.0331, 'recall': 0.3582},\n",
      "  'experiment_name': 'db-small_all-MiniLM-L6-v2_init-13'},\n",
      " {'args': {'database': 'db-small',\n",
      "           'embedding_model': 'all-MiniLM-L6-v2',\n",
      "           'k': 14},\n",
      "  'evaluation_result': {'precision': 0.0322, 'recall': 0.3648},\n",
      "  'experiment_name': 'db-small_all-MiniLM-L6-v2_init-14'},\n",
      " {'args': {'database': 'db-small',\n",
      "           'embedding_model': 'all-MiniLM-L6-v2',\n",
      "           'k': 15},\n",
      "  'evaluation_result': {'precision': 0.0307, 'recall': 0.3698},\n",
      "  'experiment_name': 'db-small_all-MiniLM-L6-v2_init-15'}]\n"
     ]
    }
   ],
   "source": [
    "pprint(test_result_1)"
   ]
  },
  {
   "cell_type": "markdown",
   "id": "2518c73b",
   "metadata": {},
   "source": [
    "## **Test Case 2**\n",
    "\n",
    "- db-large\n",
    "- intfloat/multilingual-e5-large"
   ]
  },
  {
   "cell_type": "code",
   "execution_count": 8,
   "id": "f6c14e2e",
   "metadata": {},
   "outputs": [],
   "source": [
    "DATABASE_NAME = \"db-large\"\n",
    "EMBEDDING_MODEL_NAME = \"intfloat/multilingual-e5-large\"\n",
    "\n",
    "neo4j_config[\"DATABASE_NAME\"] = DATABASE_NAME\n",
    "\n",
    "neo4j_graph = Neo4jGraph(\n",
    "    url=URI,\n",
    "    username=USERNAME,\n",
    "    password=PASSWORD,\n",
    "    database=DATABASE_NAME,\n",
    "    enhanced_schema=True\n",
    ")\n",
    "\n",
    "embedding_model = HuggingFaceEmbeddings(model_name=EMBEDDING_MODEL_NAME)"
   ]
  },
  {
   "cell_type": "code",
   "execution_count": 9,
   "id": "fcd4d531",
   "metadata": {},
   "outputs": [
    {
     "name": "stderr",
     "output_type": "stream",
     "text": [
      "Running hybrid_cypher_retriever: `db-large_intfloat-multilingual-e5-large_init-1`: 100%|██████████| 100/100 [00:09<00:00, 10.44it/s]\n"
     ]
    },
    {
     "data": {
      "application/vnd.jupyter.widget-view+json": {
       "model_id": "10e587c346fb48299e6b3aac5e49ae4b",
       "version_major": 2,
       "version_minor": 0
      },
      "text/plain": [
       "Evaluating:   0%|          | 0/200 [00:00<?, ?it/s]"
      ]
     },
     "metadata": {},
     "output_type": "display_data"
    },
    {
     "name": "stderr",
     "output_type": "stream",
     "text": [
      "Running hybrid_cypher_retriever: `db-large_intfloat-multilingual-e5-large_init-2`: 100%|██████████| 100/100 [00:08<00:00, 11.37it/s]\n"
     ]
    },
    {
     "data": {
      "application/vnd.jupyter.widget-view+json": {
       "model_id": "b1bb2e93c6d9404093458214d69a46e5",
       "version_major": 2,
       "version_minor": 0
      },
      "text/plain": [
       "Evaluating:   0%|          | 0/200 [00:00<?, ?it/s]"
      ]
     },
     "metadata": {},
     "output_type": "display_data"
    },
    {
     "name": "stderr",
     "output_type": "stream",
     "text": [
      "Running hybrid_cypher_retriever: `db-large_intfloat-multilingual-e5-large_init-3`: 100%|██████████| 100/100 [00:08<00:00, 11.29it/s]\n"
     ]
    },
    {
     "data": {
      "application/vnd.jupyter.widget-view+json": {
       "model_id": "98d7924b308745f8b6b6db795ff5cd63",
       "version_major": 2,
       "version_minor": 0
      },
      "text/plain": [
       "Evaluating:   0%|          | 0/200 [00:00<?, ?it/s]"
      ]
     },
     "metadata": {},
     "output_type": "display_data"
    },
    {
     "name": "stderr",
     "output_type": "stream",
     "text": [
      "Running hybrid_cypher_retriever: `db-large_intfloat-multilingual-e5-large_init-4`: 100%|██████████| 100/100 [00:08<00:00, 11.44it/s]\n"
     ]
    },
    {
     "data": {
      "application/vnd.jupyter.widget-view+json": {
       "model_id": "c81db846ed884d6c96f1b18e74e26db1",
       "version_major": 2,
       "version_minor": 0
      },
      "text/plain": [
       "Evaluating:   0%|          | 0/200 [00:00<?, ?it/s]"
      ]
     },
     "metadata": {},
     "output_type": "display_data"
    },
    {
     "name": "stderr",
     "output_type": "stream",
     "text": [
      "Running hybrid_cypher_retriever: `db-large_intfloat-multilingual-e5-large_init-5`: 100%|██████████| 100/100 [00:08<00:00, 11.24it/s]\n"
     ]
    },
    {
     "data": {
      "application/vnd.jupyter.widget-view+json": {
       "model_id": "cec0570af3a14695a1ea4c761206d7e3",
       "version_major": 2,
       "version_minor": 0
      },
      "text/plain": [
       "Evaluating:   0%|          | 0/200 [00:00<?, ?it/s]"
      ]
     },
     "metadata": {},
     "output_type": "display_data"
    },
    {
     "name": "stderr",
     "output_type": "stream",
     "text": [
      "Running hybrid_cypher_retriever: `db-large_intfloat-multilingual-e5-large_init-6`: 100%|██████████| 100/100 [00:10<00:00,  9.62it/s]\n"
     ]
    },
    {
     "data": {
      "application/vnd.jupyter.widget-view+json": {
       "model_id": "8ffdfbcca91b4532bdf6437a086ea648",
       "version_major": 2,
       "version_minor": 0
      },
      "text/plain": [
       "Evaluating:   0%|          | 0/200 [00:00<?, ?it/s]"
      ]
     },
     "metadata": {},
     "output_type": "display_data"
    },
    {
     "name": "stderr",
     "output_type": "stream",
     "text": [
      "Running hybrid_cypher_retriever: `db-large_intfloat-multilingual-e5-large_init-7`: 100%|██████████| 100/100 [00:09<00:00, 10.92it/s]\n"
     ]
    },
    {
     "data": {
      "application/vnd.jupyter.widget-view+json": {
       "model_id": "4ff24f1dfba94f76a5b9dae70a9b5855",
       "version_major": 2,
       "version_minor": 0
      },
      "text/plain": [
       "Evaluating:   0%|          | 0/200 [00:00<?, ?it/s]"
      ]
     },
     "metadata": {},
     "output_type": "display_data"
    },
    {
     "name": "stderr",
     "output_type": "stream",
     "text": [
      "Running hybrid_cypher_retriever: `db-large_intfloat-multilingual-e5-large_init-8`: 100%|██████████| 100/100 [00:09<00:00, 10.86it/s]\n"
     ]
    },
    {
     "data": {
      "application/vnd.jupyter.widget-view+json": {
       "model_id": "eeadf3b270424a7ea024883a6f07e4fe",
       "version_major": 2,
       "version_minor": 0
      },
      "text/plain": [
       "Evaluating:   0%|          | 0/200 [00:00<?, ?it/s]"
      ]
     },
     "metadata": {},
     "output_type": "display_data"
    },
    {
     "name": "stderr",
     "output_type": "stream",
     "text": [
      "Running hybrid_cypher_retriever: `db-large_intfloat-multilingual-e5-large_init-9`: 100%|██████████| 100/100 [00:09<00:00, 10.42it/s]\n"
     ]
    },
    {
     "data": {
      "application/vnd.jupyter.widget-view+json": {
       "model_id": "f5e39e2db2d54353b66f83ee5d917c89",
       "version_major": 2,
       "version_minor": 0
      },
      "text/plain": [
       "Evaluating:   0%|          | 0/200 [00:00<?, ?it/s]"
      ]
     },
     "metadata": {},
     "output_type": "display_data"
    },
    {
     "name": "stderr",
     "output_type": "stream",
     "text": [
      "Running hybrid_cypher_retriever: `db-large_intfloat-multilingual-e5-large_init-10`: 100%|██████████| 100/100 [00:09<00:00, 10.53it/s]\n"
     ]
    },
    {
     "data": {
      "application/vnd.jupyter.widget-view+json": {
       "model_id": "abbba80d5ea942ebbaadbebe632ceb4d",
       "version_major": 2,
       "version_minor": 0
      },
      "text/plain": [
       "Evaluating:   0%|          | 0/200 [00:00<?, ?it/s]"
      ]
     },
     "metadata": {},
     "output_type": "display_data"
    },
    {
     "name": "stderr",
     "output_type": "stream",
     "text": [
      "Running hybrid_cypher_retriever: `db-large_intfloat-multilingual-e5-large_init-11`: 100%|██████████| 100/100 [00:09<00:00, 10.02it/s]\n"
     ]
    },
    {
     "data": {
      "application/vnd.jupyter.widget-view+json": {
       "model_id": "a29fbb7bd90448eb91b8834d142b06c2",
       "version_major": 2,
       "version_minor": 0
      },
      "text/plain": [
       "Evaluating:   0%|          | 0/200 [00:00<?, ?it/s]"
      ]
     },
     "metadata": {},
     "output_type": "display_data"
    },
    {
     "name": "stderr",
     "output_type": "stream",
     "text": [
      "Running hybrid_cypher_retriever: `db-large_intfloat-multilingual-e5-large_init-12`: 100%|██████████| 100/100 [00:09<00:00, 10.26it/s]\n"
     ]
    },
    {
     "data": {
      "application/vnd.jupyter.widget-view+json": {
       "model_id": "1a8ff5ef4eb64a619380380da9646372",
       "version_major": 2,
       "version_minor": 0
      },
      "text/plain": [
       "Evaluating:   0%|          | 0/200 [00:00<?, ?it/s]"
      ]
     },
     "metadata": {},
     "output_type": "display_data"
    },
    {
     "name": "stderr",
     "output_type": "stream",
     "text": [
      "Running hybrid_cypher_retriever: `db-large_intfloat-multilingual-e5-large_init-13`: 100%|██████████| 100/100 [00:09<00:00, 10.25it/s]\n"
     ]
    },
    {
     "data": {
      "application/vnd.jupyter.widget-view+json": {
       "model_id": "1486b4d6eb7b4b23ab425a875cb55c3e",
       "version_major": 2,
       "version_minor": 0
      },
      "text/plain": [
       "Evaluating:   0%|          | 0/200 [00:00<?, ?it/s]"
      ]
     },
     "metadata": {},
     "output_type": "display_data"
    },
    {
     "name": "stderr",
     "output_type": "stream",
     "text": [
      "Running hybrid_cypher_retriever: `db-large_intfloat-multilingual-e5-large_init-14`: 100%|██████████| 100/100 [00:09<00:00, 10.08it/s]\n"
     ]
    },
    {
     "data": {
      "application/vnd.jupyter.widget-view+json": {
       "model_id": "843abe2665944a21b0fa3a6d64b39ae6",
       "version_major": 2,
       "version_minor": 0
      },
      "text/plain": [
       "Evaluating:   0%|          | 0/200 [00:00<?, ?it/s]"
      ]
     },
     "metadata": {},
     "output_type": "display_data"
    },
    {
     "name": "stderr",
     "output_type": "stream",
     "text": [
      "Running hybrid_cypher_retriever: `db-large_intfloat-multilingual-e5-large_init-15`: 100%|██████████| 100/100 [00:11<00:00,  9.07it/s]\n"
     ]
    },
    {
     "data": {
      "application/vnd.jupyter.widget-view+json": {
       "model_id": "2f5a2097a1df4270a1726f4c7a91ac57",
       "version_major": 2,
       "version_minor": 0
      },
      "text/plain": [
       "Evaluating:   0%|          | 0/200 [00:00<?, ?it/s]"
      ]
     },
     "metadata": {},
     "output_type": "display_data"
    }
   ],
   "source": [
    "test_result_2 = run_test_case(\n",
    "    DATABASE_NAME,\n",
    "    neo4j_graph,\n",
    "    EMBEDDING_MODEL_NAME,\n",
    "    embedding_model,\n",
    "    neo4j_graph_config=neo4j_config\n",
    ")"
   ]
  },
  {
   "cell_type": "code",
   "execution_count": 10,
   "id": "7668e128",
   "metadata": {},
   "outputs": [
    {
     "name": "stdout",
     "output_type": "stream",
     "text": [
      "[{'args': {'database': 'db-large',\n",
      "           'embedding_model': 'intfloat/multilingual-e5-large',\n",
      "           'k': 1},\n",
      "  'evaluation_result': {'precision': 0.0437, 'recall': 0.0950},\n",
      "  'experiment_name': 'db-large_intfloat-multilingual-e5-large_init-1'},\n",
      " {'args': {'database': 'db-large',\n",
      "           'embedding_model': 'intfloat/multilingual-e5-large',\n",
      "           'k': 2},\n",
      "  'evaluation_result': {'precision': 0.1015, 'recall': 0.3276},\n",
      "  'experiment_name': 'db-large_intfloat-multilingual-e5-large_init-2'},\n",
      " {'args': {'database': 'db-large',\n",
      "           'embedding_model': 'intfloat/multilingual-e5-large',\n",
      "           'k': 3},\n",
      "  'evaluation_result': {'precision': 0.0755, 'recall': 0.3094},\n",
      "  'experiment_name': 'db-large_intfloat-multilingual-e5-large_init-3'},\n",
      " {'args': {'database': 'db-large',\n",
      "           'embedding_model': 'intfloat/multilingual-e5-large',\n",
      "           'k': 4},\n",
      "  'evaluation_result': {'precision': 0.0776, 'recall': 0.3500},\n",
      "  'experiment_name': 'db-large_intfloat-multilingual-e5-large_init-4'},\n",
      " {'args': {'database': 'db-large',\n",
      "           'embedding_model': 'intfloat/multilingual-e5-large',\n",
      "           'k': 5},\n",
      "  'evaluation_result': {'precision': 0.0797, 'recall': 0.3888},\n",
      "  'experiment_name': 'db-large_intfloat-multilingual-e5-large_init-5'},\n",
      " {'args': {'database': 'db-large',\n",
      "           'embedding_model': 'intfloat/multilingual-e5-large',\n",
      "           'k': 6},\n",
      "  'evaluation_result': {'precision': 0.0776, 'recall': 0.4123},\n",
      "  'experiment_name': 'db-large_intfloat-multilingual-e5-large_init-6'},\n",
      " {'args': {'database': 'db-large',\n",
      "           'embedding_model': 'intfloat/multilingual-e5-large',\n",
      "           'k': 7},\n",
      "  'evaluation_result': {'precision': 0.0793, 'recall': 0.4433},\n",
      "  'experiment_name': 'db-large_intfloat-multilingual-e5-large_init-7'},\n",
      " {'args': {'database': 'db-large',\n",
      "           'embedding_model': 'intfloat/multilingual-e5-large',\n",
      "           'k': 8},\n",
      "  'evaluation_result': {'precision': 0.0721, 'recall': 0.4683},\n",
      "  'experiment_name': 'db-large_intfloat-multilingual-e5-large_init-8'},\n",
      " {'args': {'database': 'db-large',\n",
      "           'embedding_model': 'intfloat/multilingual-e5-large',\n",
      "           'k': 9},\n",
      "  'evaluation_result': {'precision': 0.0661, 'recall': 0.4683},\n",
      "  'experiment_name': 'db-large_intfloat-multilingual-e5-large_init-9'},\n",
      " {'args': {'database': 'db-large',\n",
      "           'embedding_model': 'intfloat/multilingual-e5-large',\n",
      "           'k': 10},\n",
      "  'evaluation_result': {'precision': 0.0611, 'recall': 0.4747},\n",
      "  'experiment_name': 'db-large_intfloat-multilingual-e5-large_init-10'},\n",
      " {'args': {'database': 'db-large',\n",
      "           'embedding_model': 'intfloat/multilingual-e5-large',\n",
      "           'k': 11},\n",
      "  'evaluation_result': {'precision': 0.0568, 'recall': 0.4707},\n",
      "  'experiment_name': 'db-large_intfloat-multilingual-e5-large_init-11'},\n",
      " {'args': {'database': 'db-large',\n",
      "           'embedding_model': 'intfloat/multilingual-e5-large',\n",
      "           'k': 12},\n",
      "  'evaluation_result': {'precision': 0.0543, 'recall': 0.4882},\n",
      "  'experiment_name': 'db-large_intfloat-multilingual-e5-large_init-12'},\n",
      " {'args': {'database': 'db-large',\n",
      "           'embedding_model': 'intfloat/multilingual-e5-large',\n",
      "           'k': 13},\n",
      "  'evaluation_result': {'precision': 0.0516, 'recall': 0.4982},\n",
      "  'experiment_name': 'db-large_intfloat-multilingual-e5-large_init-13'},\n",
      " {'args': {'database': 'db-large',\n",
      "           'embedding_model': 'intfloat/multilingual-e5-large',\n",
      "           'k': 14},\n",
      "  'evaluation_result': {'precision': 0.0488, 'recall': 0.4982},\n",
      "  'experiment_name': 'db-large_intfloat-multilingual-e5-large_init-14'},\n",
      " {'args': {'database': 'db-large',\n",
      "           'embedding_model': 'intfloat/multilingual-e5-large',\n",
      "           'k': 15},\n",
      "  'evaluation_result': {'precision': 0.0461, 'recall': 0.4982},\n",
      "  'experiment_name': 'db-large_intfloat-multilingual-e5-large_init-15'}]\n"
     ]
    }
   ],
   "source": [
    "pprint(test_result_2)"
   ]
  },
  {
   "cell_type": "markdown",
   "id": "b3a8333a",
   "metadata": {},
   "source": [
    "## **Test Case 3**\n",
    "\n",
    "- db-domain-specific\n",
    "- archi-ai/Indo-LegalBERT"
   ]
  },
  {
   "cell_type": "code",
   "execution_count": 11,
   "id": "97b7d085",
   "metadata": {},
   "outputs": [
    {
     "name": "stderr",
     "output_type": "stream",
     "text": [
      "No sentence-transformers model found with name archi-ai/Indo-LegalBERT. Creating a new one with mean pooling.\n",
      "Some weights of BertModel were not initialized from the model checkpoint at archi-ai/Indo-LegalBERT and are newly initialized: ['pooler.dense.bias', 'pooler.dense.weight']\n",
      "You should probably TRAIN this model on a down-stream task to be able to use it for predictions and inference.\n"
     ]
    }
   ],
   "source": [
    "DATABASE_NAME = \"db-domain-specific\"\n",
    "EMBEDDING_MODEL_NAME = \"archi-ai/Indo-LegalBERT\"\n",
    "\n",
    "neo4j_config[\"DATABASE_NAME\"] = DATABASE_NAME\n",
    "\n",
    "neo4j_graph = Neo4jGraph(\n",
    "    url=URI,\n",
    "    username=USERNAME,\n",
    "    password=PASSWORD,\n",
    "    database=DATABASE_NAME,\n",
    "    enhanced_schema=True\n",
    ")\n",
    "\n",
    "embedding_model = HuggingFaceEmbeddings(model_name=EMBEDDING_MODEL_NAME)"
   ]
  },
  {
   "cell_type": "code",
   "execution_count": 12,
   "id": "8c1e6fcb",
   "metadata": {},
   "outputs": [
    {
     "name": "stderr",
     "output_type": "stream",
     "text": [
      "Running hybrid_cypher_retriever: `db-domain-specific_archi-ai-Indo-LegalBERT_init-1`: 100%|██████████| 100/100 [00:08<00:00, 11.26it/s]\n"
     ]
    },
    {
     "data": {
      "application/vnd.jupyter.widget-view+json": {
       "model_id": "0d7015fba3034a2b964613cf8984bcc9",
       "version_major": 2,
       "version_minor": 0
      },
      "text/plain": [
       "Evaluating:   0%|          | 0/200 [00:00<?, ?it/s]"
      ]
     },
     "metadata": {},
     "output_type": "display_data"
    },
    {
     "name": "stderr",
     "output_type": "stream",
     "text": [
      "Running hybrid_cypher_retriever: `db-domain-specific_archi-ai-Indo-LegalBERT_init-2`: 100%|██████████| 100/100 [00:08<00:00, 11.60it/s]\n"
     ]
    },
    {
     "data": {
      "application/vnd.jupyter.widget-view+json": {
       "model_id": "89e8863e139340a68fdfc363b2771634",
       "version_major": 2,
       "version_minor": 0
      },
      "text/plain": [
       "Evaluating:   0%|          | 0/200 [00:00<?, ?it/s]"
      ]
     },
     "metadata": {},
     "output_type": "display_data"
    },
    {
     "name": "stderr",
     "output_type": "stream",
     "text": [
      "Running hybrid_cypher_retriever: `db-domain-specific_archi-ai-Indo-LegalBERT_init-3`: 100%|██████████| 100/100 [00:08<00:00, 11.68it/s]\n"
     ]
    },
    {
     "data": {
      "application/vnd.jupyter.widget-view+json": {
       "model_id": "b490c170967348db833bb865e18bb096",
       "version_major": 2,
       "version_minor": 0
      },
      "text/plain": [
       "Evaluating:   0%|          | 0/200 [00:00<?, ?it/s]"
      ]
     },
     "metadata": {},
     "output_type": "display_data"
    },
    {
     "name": "stderr",
     "output_type": "stream",
     "text": [
      "Running hybrid_cypher_retriever: `db-domain-specific_archi-ai-Indo-LegalBERT_init-4`: 100%|██████████| 100/100 [00:08<00:00, 12.03it/s]\n"
     ]
    },
    {
     "data": {
      "application/vnd.jupyter.widget-view+json": {
       "model_id": "f9c426bee5c04251a7067e6fd98934a0",
       "version_major": 2,
       "version_minor": 0
      },
      "text/plain": [
       "Evaluating:   0%|          | 0/200 [00:00<?, ?it/s]"
      ]
     },
     "metadata": {},
     "output_type": "display_data"
    },
    {
     "name": "stderr",
     "output_type": "stream",
     "text": [
      "Running hybrid_cypher_retriever: `db-domain-specific_archi-ai-Indo-LegalBERT_init-5`: 100%|██████████| 100/100 [00:08<00:00, 11.26it/s]\n"
     ]
    },
    {
     "data": {
      "application/vnd.jupyter.widget-view+json": {
       "model_id": "606fbd4e143c4aac9ab0547c1c693206",
       "version_major": 2,
       "version_minor": 0
      },
      "text/plain": [
       "Evaluating:   0%|          | 0/200 [00:00<?, ?it/s]"
      ]
     },
     "metadata": {},
     "output_type": "display_data"
    },
    {
     "name": "stderr",
     "output_type": "stream",
     "text": [
      "Running hybrid_cypher_retriever: `db-domain-specific_archi-ai-Indo-LegalBERT_init-6`: 100%|██████████| 100/100 [00:08<00:00, 11.61it/s]\n"
     ]
    },
    {
     "data": {
      "application/vnd.jupyter.widget-view+json": {
       "model_id": "23ac82a5d9b74ac98abe1493fcb5f3be",
       "version_major": 2,
       "version_minor": 0
      },
      "text/plain": [
       "Evaluating:   0%|          | 0/200 [00:00<?, ?it/s]"
      ]
     },
     "metadata": {},
     "output_type": "display_data"
    },
    {
     "name": "stderr",
     "output_type": "stream",
     "text": [
      "Running hybrid_cypher_retriever: `db-domain-specific_archi-ai-Indo-LegalBERT_init-7`: 100%|██████████| 100/100 [00:08<00:00, 11.56it/s]\n"
     ]
    },
    {
     "data": {
      "application/vnd.jupyter.widget-view+json": {
       "model_id": "8a09c90176ca44f595aef7b6a772c686",
       "version_major": 2,
       "version_minor": 0
      },
      "text/plain": [
       "Evaluating:   0%|          | 0/200 [00:00<?, ?it/s]"
      ]
     },
     "metadata": {},
     "output_type": "display_data"
    },
    {
     "name": "stderr",
     "output_type": "stream",
     "text": [
      "Running hybrid_cypher_retriever: `db-domain-specific_archi-ai-Indo-LegalBERT_init-8`: 100%|██████████| 100/100 [00:08<00:00, 11.22it/s]\n"
     ]
    },
    {
     "data": {
      "application/vnd.jupyter.widget-view+json": {
       "model_id": "d3e6da4a13ac46108b8ed0ff2c8a9381",
       "version_major": 2,
       "version_minor": 0
      },
      "text/plain": [
       "Evaluating:   0%|          | 0/200 [00:00<?, ?it/s]"
      ]
     },
     "metadata": {},
     "output_type": "display_data"
    },
    {
     "name": "stderr",
     "output_type": "stream",
     "text": [
      "Running hybrid_cypher_retriever: `db-domain-specific_archi-ai-Indo-LegalBERT_init-9`: 100%|██████████| 100/100 [00:09<00:00, 10.71it/s]\n"
     ]
    },
    {
     "data": {
      "application/vnd.jupyter.widget-view+json": {
       "model_id": "37665c64635e48069206ced6f54d2fc6",
       "version_major": 2,
       "version_minor": 0
      },
      "text/plain": [
       "Evaluating:   0%|          | 0/200 [00:00<?, ?it/s]"
      ]
     },
     "metadata": {},
     "output_type": "display_data"
    },
    {
     "name": "stderr",
     "output_type": "stream",
     "text": [
      "Running hybrid_cypher_retriever: `db-domain-specific_archi-ai-Indo-LegalBERT_init-10`: 100%|██████████| 100/100 [00:09<00:00, 10.74it/s]\n"
     ]
    },
    {
     "data": {
      "application/vnd.jupyter.widget-view+json": {
       "model_id": "99b7ed8a7d81437b9cd94909cf618b7e",
       "version_major": 2,
       "version_minor": 0
      },
      "text/plain": [
       "Evaluating:   0%|          | 0/200 [00:00<?, ?it/s]"
      ]
     },
     "metadata": {},
     "output_type": "display_data"
    },
    {
     "name": "stderr",
     "output_type": "stream",
     "text": [
      "Running hybrid_cypher_retriever: `db-domain-specific_archi-ai-Indo-LegalBERT_init-11`: 100%|██████████| 100/100 [00:09<00:00, 10.63it/s]\n"
     ]
    },
    {
     "data": {
      "application/vnd.jupyter.widget-view+json": {
       "model_id": "a11e7ab56284416698d426087f6f9cd3",
       "version_major": 2,
       "version_minor": 0
      },
      "text/plain": [
       "Evaluating:   0%|          | 0/200 [00:00<?, ?it/s]"
      ]
     },
     "metadata": {},
     "output_type": "display_data"
    },
    {
     "name": "stderr",
     "output_type": "stream",
     "text": [
      "Running hybrid_cypher_retriever: `db-domain-specific_archi-ai-Indo-LegalBERT_init-12`: 100%|██████████| 100/100 [00:09<00:00, 10.33it/s]\n"
     ]
    },
    {
     "data": {
      "application/vnd.jupyter.widget-view+json": {
       "model_id": "306be1f7c57d4c4e870bb69b74667483",
       "version_major": 2,
       "version_minor": 0
      },
      "text/plain": [
       "Evaluating:   0%|          | 0/200 [00:00<?, ?it/s]"
      ]
     },
     "metadata": {},
     "output_type": "display_data"
    },
    {
     "name": "stderr",
     "output_type": "stream",
     "text": [
      "Running hybrid_cypher_retriever: `db-domain-specific_archi-ai-Indo-LegalBERT_init-13`: 100%|██████████| 100/100 [00:09<00:00, 10.13it/s]\n"
     ]
    },
    {
     "data": {
      "application/vnd.jupyter.widget-view+json": {
       "model_id": "d0ac71157e6a461f8ae7f79116ba4474",
       "version_major": 2,
       "version_minor": 0
      },
      "text/plain": [
       "Evaluating:   0%|          | 0/200 [00:00<?, ?it/s]"
      ]
     },
     "metadata": {},
     "output_type": "display_data"
    },
    {
     "name": "stderr",
     "output_type": "stream",
     "text": [
      "Running hybrid_cypher_retriever: `db-domain-specific_archi-ai-Indo-LegalBERT_init-14`: 100%|██████████| 100/100 [00:09<00:00, 10.01it/s]\n"
     ]
    },
    {
     "data": {
      "application/vnd.jupyter.widget-view+json": {
       "model_id": "874df1b993ca49d5bcfce2a54df459d8",
       "version_major": 2,
       "version_minor": 0
      },
      "text/plain": [
       "Evaluating:   0%|          | 0/200 [00:00<?, ?it/s]"
      ]
     },
     "metadata": {},
     "output_type": "display_data"
    },
    {
     "name": "stderr",
     "output_type": "stream",
     "text": [
      "Running hybrid_cypher_retriever: `db-domain-specific_archi-ai-Indo-LegalBERT_init-15`: 100%|██████████| 100/100 [00:10<00:00,  9.94it/s]\n"
     ]
    },
    {
     "data": {
      "application/vnd.jupyter.widget-view+json": {
       "model_id": "22067bf882fb4bbfa4b5221ee6cd29f5",
       "version_major": 2,
       "version_minor": 0
      },
      "text/plain": [
       "Evaluating:   0%|          | 0/200 [00:00<?, ?it/s]"
      ]
     },
     "metadata": {},
     "output_type": "display_data"
    }
   ],
   "source": [
    "test_result_3 = run_test_case(\n",
    "    DATABASE_NAME,\n",
    "    neo4j_graph,\n",
    "    EMBEDDING_MODEL_NAME,\n",
    "    embedding_model,\n",
    "    neo4j_graph_config=neo4j_config\n",
    ")"
   ]
  },
  {
   "cell_type": "code",
   "execution_count": 13,
   "id": "4a3e2eca",
   "metadata": {},
   "outputs": [
    {
     "name": "stdout",
     "output_type": "stream",
     "text": [
      "[{'args': {'database': 'db-domain-specific',\n",
      "           'embedding_model': 'archi-ai/Indo-LegalBERT',\n",
      "           'k': 1},\n",
      "  'evaluation_result': {'precision': 0.0310, 'recall': 0.0558},\n",
      "  'experiment_name': 'db-domain-specific_archi-ai-Indo-LegalBERT_init-1'},\n",
      " {'args': {'database': 'db-domain-specific',\n",
      "           'embedding_model': 'archi-ai/Indo-LegalBERT',\n",
      "           'k': 2},\n",
      "  'evaluation_result': {'precision': 0.0711, 'recall': 0.2309},\n",
      "  'experiment_name': 'db-domain-specific_archi-ai-Indo-LegalBERT_init-2'},\n",
      " {'args': {'database': 'db-domain-specific',\n",
      "           'embedding_model': 'archi-ai/Indo-LegalBERT',\n",
      "           'k': 3},\n",
      "  'evaluation_result': {'precision': 0.0708, 'recall': 0.2830},\n",
      "  'experiment_name': 'db-domain-specific_archi-ai-Indo-LegalBERT_init-3'},\n",
      " {'args': {'database': 'db-domain-specific',\n",
      "           'embedding_model': 'archi-ai/Indo-LegalBERT',\n",
      "           'k': 4},\n",
      "  'evaluation_result': {'precision': 0.0693, 'recall': 0.3255},\n",
      "  'experiment_name': 'db-domain-specific_archi-ai-Indo-LegalBERT_init-4'},\n",
      " {'args': {'database': 'db-domain-specific',\n",
      "           'embedding_model': 'archi-ai/Indo-LegalBERT',\n",
      "           'k': 5},\n",
      "  'evaluation_result': {'precision': 0.0692, 'recall': 0.3447},\n",
      "  'experiment_name': 'db-domain-specific_archi-ai-Indo-LegalBERT_init-5'},\n",
      " {'args': {'database': 'db-domain-specific',\n",
      "           'embedding_model': 'archi-ai/Indo-LegalBERT',\n",
      "           'k': 6},\n",
      "  'evaluation_result': {'precision': 0.0567, 'recall': 0.3572},\n",
      "  'experiment_name': 'db-domain-specific_archi-ai-Indo-LegalBERT_init-6'},\n",
      " {'args': {'database': 'db-domain-specific',\n",
      "           'embedding_model': 'archi-ai/Indo-LegalBERT',\n",
      "           'k': 7},\n",
      "  'evaluation_result': {'precision': 0.0543, 'recall': 0.3688},\n",
      "  'experiment_name': 'db-domain-specific_archi-ai-Indo-LegalBERT_init-7'},\n",
      " {'args': {'database': 'db-domain-specific',\n",
      "           'embedding_model': 'archi-ai/Indo-LegalBERT',\n",
      "           'k': 8},\n",
      "  'evaluation_result': {'precision': 0.0498, 'recall': 0.3730},\n",
      "  'experiment_name': 'db-domain-specific_archi-ai-Indo-LegalBERT_init-8'},\n",
      " {'args': {'database': 'db-domain-specific',\n",
      "           'embedding_model': 'archi-ai/Indo-LegalBERT',\n",
      "           'k': 9},\n",
      "  'evaluation_result': {'precision': 0.0453, 'recall': 0.3730},\n",
      "  'experiment_name': 'db-domain-specific_archi-ai-Indo-LegalBERT_init-9'},\n",
      " {'args': {'database': 'db-domain-specific',\n",
      "           'embedding_model': 'archi-ai/Indo-LegalBERT',\n",
      "           'k': 10},\n",
      "  'evaluation_result': {'precision': 0.0450, 'recall': 0.3913},\n",
      "  'experiment_name': 'db-domain-specific_archi-ai-Indo-LegalBERT_init-10'},\n",
      " {'args': {'database': 'db-domain-specific',\n",
      "           'embedding_model': 'archi-ai/Indo-LegalBERT',\n",
      "           'k': 11},\n",
      "  'evaluation_result': {'precision': 0.0418, 'recall': 0.4013},\n",
      "  'experiment_name': 'db-domain-specific_archi-ai-Indo-LegalBERT_init-11'},\n",
      " {'args': {'database': 'db-domain-specific',\n",
      "           'embedding_model': 'archi-ai/Indo-LegalBERT',\n",
      "           'k': 12},\n",
      "  'evaluation_result': {'precision': 0.0391, 'recall': 0.4013},\n",
      "  'experiment_name': 'db-domain-specific_archi-ai-Indo-LegalBERT_init-12'},\n",
      " {'args': {'database': 'db-domain-specific',\n",
      "           'embedding_model': 'archi-ai/Indo-LegalBERT',\n",
      "           'k': 13},\n",
      "  'evaluation_result': {'precision': 0.0369, 'recall': 0.4013},\n",
      "  'experiment_name': 'db-domain-specific_archi-ai-Indo-LegalBERT_init-13'},\n",
      " {'args': {'database': 'db-domain-specific',\n",
      "           'embedding_model': 'archi-ai/Indo-LegalBERT',\n",
      "           'k': 14},\n",
      "  'evaluation_result': {'precision': 0.0348, 'recall': 0.4013},\n",
      "  'experiment_name': 'db-domain-specific_archi-ai-Indo-LegalBERT_init-14'},\n",
      " {'args': {'database': 'db-domain-specific',\n",
      "           'embedding_model': 'archi-ai/Indo-LegalBERT',\n",
      "           'k': 15},\n",
      "  'evaluation_result': {'precision': 0.0335, 'recall': 0.4047},\n",
      "  'experiment_name': 'db-domain-specific_archi-ai-Indo-LegalBERT_init-15'}]\n"
     ]
    }
   ],
   "source": [
    "pprint(test_result_3)"
   ]
  }
 ],
 "metadata": {
  "kernelspec": {
   "display_name": ".venv",
   "language": "python",
   "name": "python3"
  },
  "language_info": {
   "codemirror_mode": {
    "name": "ipython",
    "version": 3
   },
   "file_extension": ".py",
   "mimetype": "text/x-python",
   "name": "python",
   "nbconvert_exporter": "python",
   "pygments_lexer": "ipython3",
   "version": "3.11.4"
  }
 },
 "nbformat": 4,
 "nbformat_minor": 5
}
