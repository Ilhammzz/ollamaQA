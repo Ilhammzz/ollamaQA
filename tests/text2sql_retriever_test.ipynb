{
 "cells": [
  {
   "cell_type": "code",
   "execution_count": 1,
   "id": "d6eaae8c",
   "metadata": {},
   "outputs": [
    {
     "name": "stderr",
     "output_type": "stream",
     "text": [
      "d:\\code\\.venv\\Lib\\site-packages\\tqdm\\auto.py:21: TqdmWarning: IProgress not found. Please update jupyter and ipywidgets. See https://ipywidgets.readthedocs.io/en/stable/user_install.html\n",
      "  from .autonotebook import tqdm as notebook_tqdm\n"
     ]
    }
   ],
   "source": [
    "\n",
    "# ========================== 📦 IMPORT SECTION ==========================\n",
    "import os\n",
    "import sys\n",
    "sys.path.append(os.path.abspath(os.path.join(os.getcwd(), \"..\")))\n",
    "\n",
    "import time\n",
    "from ast import literal_eval\n",
    "from typing import List, Dict\n",
    "\n",
    "import pandas as pd\n",
    "from dotenv import load_dotenv\n",
    "from tqdm import tqdm\n",
    "\n",
    "from ragas.dataset_schema import Sample, EvaluationDataset, SingleTurnSample\n",
    "from src.tag.src.text2sqlchain import generate_sql  # path kamu\n",
    "from src.tag.evaluation.run_text2sql import run_text2sql_workflow\n",
    "from src.tag.src.text2sqlchain import generate_sql\n",
    "from src.tag.src.query_executor import execute_text2sql_response\n",
    "from src.tag.evaluation.eval_metrics import evaluate_retriever  # gunakan retriever-style\n",
    "from src.tag.database.db_connection import connect_db\n",
    "from src.tag.database.schema_loader import load_schema\n",
    "\n",
    "from langchain_community.utilities import SQLDatabase\n",
    "\n"
   ]
  },
  {
   "cell_type": "code",
   "execution_count": 2,
   "id": "8a6ed8cd",
   "metadata": {},
   "outputs": [],
   "source": [
    "conn = connect_db()\n",
    "schema = load_schema(conn)"
   ]
  },
  {
   "cell_type": "code",
   "execution_count": 3,
   "id": "b3d24aaa",
   "metadata": {},
   "outputs": [
    {
     "name": "stdout",
     "output_type": "stream",
     "text": [
      "Jumlah soal: 5\n"
     ]
    }
   ],
   "source": [
    "DATASET_PATH = os.path.join(\"data\", \"Dataset Testing 2.xlsx\")\n",
    "df = pd.read_excel(DATASET_PATH)\n",
    "\n",
    "dataset = []\n",
    "\n",
    "for i, row in df.iterrows():\n",
    "    if row[\"is_valid\"]:\n",
    "        dataset.append({\n",
    "            \"user_input\": str(row[\"user_input\"]),\n",
    "            \"reference_contexts\": literal_eval(row[\"reference_contexts_2\"])\n",
    "        })\n",
    "    if len(dataset) == 5:\n",
    "        break\n",
    "print(f\"Jumlah soal: {len(dataset)}\")\n"
   ]
  },
  {
   "cell_type": "code",
   "execution_count": 5,
   "id": "e5d6885a",
   "metadata": {},
   "outputs": [],
   "source": [
    "def retrieve_contexts_from_text2sql(question: str) -> list[str]:\n",
    "    try:\n",
    "        response = generate_sql(schema, question, top_k=100, shot_mode=\"few-shot\", llm_mode=\"gemini\")\n",
    "        rows, columns = execute_text2sql_response(conn, response)\n",
    "        if not rows:\n",
    "            return []\n",
    "        return [\" | \".join(map(str, row)) for row in rows]\n",
    "    except Exception as e:\n",
    "        print(f\"[!] Error: {question} → {e}\")\n",
    "        return []\n"
   ]
  },
  {
   "cell_type": "code",
   "execution_count": 6,
   "id": "c4731d49",
   "metadata": {},
   "outputs": [
    {
     "name": "stderr",
     "output_type": "stream",
     "text": [
      "Menjalankan Text2SQL dan Eksekusi:   0%|          | 0/5 [00:00<?, ?it/s]d:\\code\\src\\tag\\src\\text2sqlchain.py:126: LangChainDeprecationWarning: The class `LLMChain` was deprecated in LangChain 0.1.17 and will be removed in 1.0. Use :meth:`~RunnableSequence, e.g., `prompt | llm`` instead.\n",
      "  return LLMChain(llm=llm, prompt=prompt)\n",
      "d:\\code\\src\\tag\\src\\text2sqlchain.py:151: LangChainDeprecationWarning: The method `Chain.run` was deprecated in langchain 0.1.0 and will be removed in 1.0. Use :meth:`~invoke` instead.\n",
      "  return chain.run(inputs).strip()\n",
      "Menjalankan Text2SQL dan Eksekusi: 100%|██████████| 5/5 [00:08<00:00,  1.61s/it]\n"
     ]
    }
   ],
   "source": [
    "samples = []\n",
    "\n",
    "for item in tqdm(dataset, desc=\"Menjalankan Text2SQL dan Eksekusi\"):\n",
    "    q = item[\"user_input\"]\n",
    "    ref = item[\"reference_contexts\"]\n",
    "    ret = retrieve_contexts_from_text2sql(q)\n",
    "\n",
    "    sample = SingleTurnSample(\n",
    "        question=q,\n",
    "        reference_contexts=ref,\n",
    "        retrieved_contexts=ret\n",
    "    )\n",
    "    samples.append(sample)\n",
    "\n",
    "evaluation_dataset = EvaluationDataset(samples)\n"
   ]
  },
  {
   "cell_type": "code",
   "execution_count": 7,
   "id": "4fb45c75",
   "metadata": {},
   "outputs": [
    {
     "name": "stderr",
     "output_type": "stream",
     "text": [
      "Evaluating:   0%|          | 0/10 [00:00<?, ?it/s]Exception raised in Job[5]: ValueError(max() arg is an empty sequence)\n",
      "Exception raised in Job[3]: ValueError(max() arg is an empty sequence)\n",
      "Evaluating: 100%|██████████| 10/10 [00:00<00:00, 60.78it/s]\n"
     ]
    },
    {
     "data": {
      "text/html": [
       "<div>\n",
       "<style scoped>\n",
       "    .dataframe tbody tr th:only-of-type {\n",
       "        vertical-align: middle;\n",
       "    }\n",
       "\n",
       "    .dataframe tbody tr th {\n",
       "        vertical-align: top;\n",
       "    }\n",
       "\n",
       "    .dataframe thead th {\n",
       "        text-align: right;\n",
       "    }\n",
       "</style>\n",
       "<table border=\"1\" class=\"dataframe\">\n",
       "  <thead>\n",
       "    <tr style=\"text-align: right;\">\n",
       "      <th></th>\n",
       "      <th>retrieved_contexts</th>\n",
       "      <th>reference_contexts</th>\n",
       "      <th>precision</th>\n",
       "      <th>recall</th>\n",
       "    </tr>\n",
       "  </thead>\n",
       "  <tbody>\n",
       "    <tr>\n",
       "      <th>0</th>\n",
       "      <td>[18A | (1) Dalam penyediaan akses dan layanan ...</td>\n",
       "      <td>[(1) Persentase TKDN untuk belanja modal (cape...</td>\n",
       "      <td>0.230769</td>\n",
       "      <td>0.75</td>\n",
       "    </tr>\n",
       "    <tr>\n",
       "      <th>1</th>\n",
       "      <td>[]</td>\n",
       "      <td>[Lembaga Penyiaran Asing dilarang didirikan di...</td>\n",
       "      <td>0.000000</td>\n",
       "      <td>NaN</td>\n",
       "    </tr>\n",
       "    <tr>\n",
       "      <th>2</th>\n",
       "      <td>[]</td>\n",
       "      <td>[(1) Pelaksanaan Diklat REOR sebagaimana dimak...</td>\n",
       "      <td>0.000000</td>\n",
       "      <td>NaN</td>\n",
       "    </tr>\n",
       "    <tr>\n",
       "      <th>3</th>\n",
       "      <td>[Jaringan Dokumentasi dan Informasi Hukum Keme...</td>\n",
       "      <td>[Dalam Peraturan Menteri ini yang dimaksud den...</td>\n",
       "      <td>0.000000</td>\n",
       "      <td>0.00</td>\n",
       "    </tr>\n",
       "    <tr>\n",
       "      <th>4</th>\n",
       "      <td>[22 | (1) Registrar Nama Domain Selain Instans...</td>\n",
       "      <td>[Registri Nama Domain dan Registrar Nama Domai...</td>\n",
       "      <td>0.000000</td>\n",
       "      <td>0.00</td>\n",
       "    </tr>\n",
       "  </tbody>\n",
       "</table>\n",
       "</div>"
      ],
      "text/plain": [
       "                                  retrieved_contexts  \\\n",
       "0  [18A | (1) Dalam penyediaan akses dan layanan ...   \n",
       "1                                                 []   \n",
       "2                                                 []   \n",
       "3  [Jaringan Dokumentasi dan Informasi Hukum Keme...   \n",
       "4  [22 | (1) Registrar Nama Domain Selain Instans...   \n",
       "\n",
       "                                  reference_contexts  precision  recall  \n",
       "0  [(1) Persentase TKDN untuk belanja modal (cape...   0.230769    0.75  \n",
       "1  [Lembaga Penyiaran Asing dilarang didirikan di...   0.000000     NaN  \n",
       "2  [(1) Pelaksanaan Diklat REOR sebagaimana dimak...   0.000000     NaN  \n",
       "3  [Dalam Peraturan Menteri ini yang dimaksud den...   0.000000    0.00  \n",
       "4  [Registri Nama Domain dan Registrar Nama Domai...   0.000000    0.00  "
      ]
     },
     "execution_count": 7,
     "metadata": {},
     "output_type": "execute_result"
    }
   ],
   "source": [
    "result = evaluate_retriever(evaluation_dataset, experiment_name=\"tag_retriever_v1\")\n",
    "df_result = result.to_pandas()\n",
    "df_result\n"
   ]
  },
  {
   "cell_type": "code",
   "execution_count": 9,
   "id": "35e1b48b",
   "metadata": {},
   "outputs": [
    {
     "name": "stdout",
     "output_type": "stream",
     "text": [
      "Hasil evaluasi telah disimpan ke 'tag_retriever_v1.json'.\n"
     ]
    }
   ],
   "source": [
    "df_result.to_json(\"tag_retriever_v1.json\", index=False)\n",
    "print(\"Hasil evaluasi telah disimpan ke 'tag_retriever_v1.json'.\")"
   ]
  }
 ],
 "metadata": {
  "kernelspec": {
   "display_name": ".venv",
   "language": "python",
   "name": "python3"
  },
  "language_info": {
   "codemirror_mode": {
    "name": "ipython",
    "version": 3
   },
   "file_extension": ".py",
   "mimetype": "text/x-python",
   "name": "python",
   "nbconvert_exporter": "python",
   "pygments_lexer": "ipython3",
   "version": "3.11.9"
  }
 },
 "nbformat": 4,
 "nbformat_minor": 5
}
